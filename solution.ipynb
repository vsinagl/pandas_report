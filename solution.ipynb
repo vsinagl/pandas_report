{
 "cells": [
  {
   "cell_type": "code",
   "execution_count": 21,
   "id": "9584040b",
   "metadata": {},
   "outputs": [
    {
     "name": "stdout",
     "output_type": "stream",
     "text": [
      "3.10.12 (main, Jul 29 2024, 16:56:48) [GCC 11.4.0]\n",
      "pandas version 2.2.3\n"
     ]
    }
   ],
   "source": [
    "import pandas as pd\n",
    "import seaborn as see\n",
    "from matplotlib import pyplot as plt\n",
    "import sys\n",
    "from dateutil import parser\n",
    "import openpyxl as op\n",
    "print(sys.version)\n",
    "print('pandas version', pd.__version__)\n",
    "\n"
   ]
  },
  {
   "cell_type": "markdown",
   "id": "8d9bbc90",
   "metadata": {},
   "source": [
    "# Preparing data\n"
   ]
  },
  {
   "cell_type": "code",
   "execution_count": 22,
   "id": "0054641b",
   "metadata": {},
   "outputs": [
    {
     "data": {
      "text/html": [
       "<div>\n",
       "<style scoped>\n",
       "    .dataframe tbody tr th:only-of-type {\n",
       "        vertical-align: middle;\n",
       "    }\n",
       "\n",
       "    .dataframe tbody tr th {\n",
       "        vertical-align: top;\n",
       "    }\n",
       "\n",
       "    .dataframe thead th {\n",
       "        text-align: right;\n",
       "    }\n",
       "</style>\n",
       "<table border=\"1\" class=\"dataframe\">\n",
       "  <thead>\n",
       "    <tr style=\"text-align: right;\">\n",
       "      <th></th>\n",
       "      <th>ID_komponenty</th>\n",
       "      <th>Porizovaci_cena</th>\n",
       "    </tr>\n",
       "  </thead>\n",
       "  <tbody>\n",
       "    <tr>\n",
       "      <th>0</th>\n",
       "      <td>KO001</td>\n",
       "      <td>11600</td>\n",
       "    </tr>\n",
       "    <tr>\n",
       "      <th>1</th>\n",
       "      <td>KO002</td>\n",
       "      <td>2550</td>\n",
       "    </tr>\n",
       "    <tr>\n",
       "      <th>2</th>\n",
       "      <td>KO003</td>\n",
       "      <td>13300</td>\n",
       "    </tr>\n",
       "    <tr>\n",
       "      <th>3</th>\n",
       "      <td>KO004</td>\n",
       "      <td>2350</td>\n",
       "    </tr>\n",
       "    <tr>\n",
       "      <th>4</th>\n",
       "      <td>KO005</td>\n",
       "      <td>14950</td>\n",
       "    </tr>\n",
       "  </tbody>\n",
       "</table>\n",
       "</div>"
      ],
      "text/plain": [
       "  ID_komponenty  Porizovaci_cena\n",
       "0         KO001            11600\n",
       "1         KO002             2550\n",
       "2         KO003            13300\n",
       "3         KO004             2350\n",
       "4         KO005            14950"
      ]
     },
     "execution_count": 22,
     "metadata": {},
     "output_type": "execute_result"
    }
   ],
   "source": [
    "excel_file = 'logio.xlsx'\n",
    "df_ciselniky = pd.read_excel(excel_file, sheet_name='ciselniky',usecols='G:H', skiprows=1)\n",
    "df_kusovnik = pd.read_excel(excel_file, sheet_name='matice_vyroby')\n",
    "df_ciselniky.head()"
   ]
  },
  {
   "cell_type": "code",
   "execution_count": 23,
   "id": "2a407dca",
   "metadata": {},
   "outputs": [
    {
     "name": "stdout",
     "output_type": "stream",
     "text": [
      "<class 'pandas.core.frame.DataFrame'>\n",
      "RangeIndex: 2158 entries, 0 to 2157\n",
      "Data columns (total 7 columns):\n",
      " #   Column         Non-Null Count  Dtype         \n",
      "---  ------         --------------  -----         \n",
      " 0   ID_sortimentu  2158 non-null   object        \n",
      " 1   ID_zavodu      2158 non-null   object        \n",
      " 2   Datum          2158 non-null   datetime64[ns]\n",
      " 3   Mnozstvi       2158 non-null   Int64         \n",
      " 4   Mesic          2158 non-null   int32         \n",
      " 5   Rok            2158 non-null   int32         \n",
      " 6   Rok-Mesic      2158 non-null   object        \n",
      "dtypes: Int64(1), datetime64[ns](1), int32(2), object(3)\n",
      "memory usage: 103.4+ KB\n"
     ]
    },
    {
     "data": {
      "text/html": [
       "<div>\n",
       "<style scoped>\n",
       "    .dataframe tbody tr th:only-of-type {\n",
       "        vertical-align: middle;\n",
       "    }\n",
       "\n",
       "    .dataframe tbody tr th {\n",
       "        vertical-align: top;\n",
       "    }\n",
       "\n",
       "    .dataframe thead th {\n",
       "        text-align: right;\n",
       "    }\n",
       "</style>\n",
       "<table border=\"1\" class=\"dataframe\">\n",
       "  <thead>\n",
       "    <tr style=\"text-align: right;\">\n",
       "      <th></th>\n",
       "      <th>ID_sortimentu</th>\n",
       "      <th>ID_zavodu</th>\n",
       "      <th>Datum</th>\n",
       "      <th>Mnozstvi</th>\n",
       "      <th>Mesic</th>\n",
       "      <th>Rok</th>\n",
       "      <th>Rok-Mesic</th>\n",
       "    </tr>\n",
       "  </thead>\n",
       "  <tbody>\n",
       "    <tr>\n",
       "      <th>0</th>\n",
       "      <td>ND102</td>\n",
       "      <td>ZP30</td>\n",
       "      <td>2017-03-03</td>\n",
       "      <td>25</td>\n",
       "      <td>3</td>\n",
       "      <td>2017</td>\n",
       "      <td>2017-03</td>\n",
       "    </tr>\n",
       "    <tr>\n",
       "      <th>1</th>\n",
       "      <td>ND123</td>\n",
       "      <td>ZP10</td>\n",
       "      <td>2018-05-14</td>\n",
       "      <td>16</td>\n",
       "      <td>5</td>\n",
       "      <td>2018</td>\n",
       "      <td>2018-05</td>\n",
       "    </tr>\n",
       "    <tr>\n",
       "      <th>2</th>\n",
       "      <td>ND112</td>\n",
       "      <td>ZP30</td>\n",
       "      <td>2017-02-10</td>\n",
       "      <td>29</td>\n",
       "      <td>2</td>\n",
       "      <td>2017</td>\n",
       "      <td>2017-02</td>\n",
       "    </tr>\n",
       "    <tr>\n",
       "      <th>3</th>\n",
       "      <td>ND118</td>\n",
       "      <td>ZP20</td>\n",
       "      <td>2018-08-08</td>\n",
       "      <td>1</td>\n",
       "      <td>8</td>\n",
       "      <td>2018</td>\n",
       "      <td>2018-08</td>\n",
       "    </tr>\n",
       "    <tr>\n",
       "      <th>4</th>\n",
       "      <td>ND119</td>\n",
       "      <td>ZP20</td>\n",
       "      <td>2018-01-14</td>\n",
       "      <td>16</td>\n",
       "      <td>1</td>\n",
       "      <td>2018</td>\n",
       "      <td>2018-01</td>\n",
       "    </tr>\n",
       "  </tbody>\n",
       "</table>\n",
       "</div>"
      ],
      "text/plain": [
       "  ID_sortimentu ID_zavodu      Datum  Mnozstvi  Mesic   Rok Rok-Mesic\n",
       "0         ND102      ZP30 2017-03-03        25      3  2017   2017-03\n",
       "1         ND123      ZP10 2018-05-14        16      5  2018   2018-05\n",
       "2         ND112      ZP30 2017-02-10        29      2  2017   2017-02\n",
       "3         ND118      ZP20 2018-08-08         1      8  2018   2018-08\n",
       "4         ND119      ZP20 2018-01-14        16      1  2018   2018-01"
      ]
     },
     "execution_count": 23,
     "metadata": {},
     "output_type": "execute_result"
    }
   ],
   "source": [
    "# extracting manufacturing data from csv_excel file\n",
    "wb = op.load_workbook(excel_file)\n",
    "sheet = wb['vyroba_text']\n",
    "\n",
    "def get_csv_data(sheet):\n",
    "\tcsv_data = []\n",
    "\tfor row in sheet.iter_rows(values_only=True):\n",
    "\t\trow_list = []\n",
    "\t\tfor element in row[0].split(';'):\n",
    "\t\t\trow_list.append(element)\n",
    "\t\tcsv_data.append(row_list)\n",
    "\treturn csv_data\n",
    "\n",
    "def date_parser(date_string):\n",
    "    try:\n",
    "        return parser.parse(date_string, dayfirst=True)\n",
    "    except ValueError:\n",
    "        raise Exception(\"We still have a problem\")\n",
    "\n",
    "\n",
    "\n",
    "#creating data frame\n",
    "csv_data = get_csv_data(sheet)\n",
    "df_vyroba = pd.DataFrame(csv_data[1:], columns=csv_data[0])\n",
    "# Converting datatypes (daful is object)\n",
    "df_vyroba['Datum'] = df_vyroba['Datum'].apply(date_parser)\n",
    "df_vyroba['Mnozstvi'] = pd.to_numeric(df_vyroba['Mnozstvi'],).astype('Int64')\n",
    "# Adding colum 'mesic;\n",
    "df_vyroba['Mesic'] = df_vyroba['Datum'].dt.month\n",
    "df_vyroba['Rok'] = df_vyroba['Datum'].dt.year\n",
    "df_vyroba['Rok-Mesic'] = df_vyroba['Datum'].dt.strftime('%Y-%m')\n",
    "\n",
    "df_vyroba.info()\n",
    "df_vyroba.head()\n"
   ]
  },
  {
   "cell_type": "code",
   "execution_count": 24,
   "id": "fe3af668",
   "metadata": {},
   "outputs": [
    {
     "data": {
      "text/html": [
       "<div>\n",
       "<style scoped>\n",
       "    .dataframe tbody tr th:only-of-type {\n",
       "        vertical-align: middle;\n",
       "    }\n",
       "\n",
       "    .dataframe tbody tr th {\n",
       "        vertical-align: top;\n",
       "    }\n",
       "\n",
       "    .dataframe thead th {\n",
       "        text-align: right;\n",
       "    }\n",
       "</style>\n",
       "<table border=\"1\" class=\"dataframe\">\n",
       "  <thead>\n",
       "    <tr style=\"text-align: right;\">\n",
       "      <th></th>\n",
       "      <th>ID_dodavatele</th>\n",
       "      <th>ID_skladu</th>\n",
       "      <th>ID_komponenty</th>\n",
       "      <th>Mnozstvi</th>\n",
       "      <th>Datum_objednani</th>\n",
       "      <th>Datum_dodani</th>\n",
       "      <th>Zpozdeno</th>\n",
       "      <th>Deadline</th>\n",
       "    </tr>\n",
       "  </thead>\n",
       "  <tbody>\n",
       "    <tr>\n",
       "      <th>618</th>\n",
       "      <td>47EFKT</td>\n",
       "      <td>SK00</td>\n",
       "      <td>KO174</td>\n",
       "      <td>12</td>\n",
       "      <td>2018-04-03</td>\n",
       "      <td>2018-04-07</td>\n",
       "      <td>False</td>\n",
       "      <td>2018-04-10</td>\n",
       "    </tr>\n",
       "    <tr>\n",
       "      <th>265</th>\n",
       "      <td>999DJT8</td>\n",
       "      <td>SK00</td>\n",
       "      <td>KO050</td>\n",
       "      <td>1</td>\n",
       "      <td>2018-05-10</td>\n",
       "      <td>2018-05-14</td>\n",
       "      <td>False</td>\n",
       "      <td>2018-05-17</td>\n",
       "    </tr>\n",
       "    <tr>\n",
       "      <th>848</th>\n",
       "      <td>102ADF</td>\n",
       "      <td>SK02</td>\n",
       "      <td>KO069</td>\n",
       "      <td>13</td>\n",
       "      <td>2018-04-02</td>\n",
       "      <td>2018-04-05</td>\n",
       "      <td>False</td>\n",
       "      <td>2018-04-09</td>\n",
       "    </tr>\n",
       "    <tr>\n",
       "      <th>1224</th>\n",
       "      <td>102ADF</td>\n",
       "      <td>SK00</td>\n",
       "      <td>KO064</td>\n",
       "      <td>19</td>\n",
       "      <td>2017-12-02</td>\n",
       "      <td>2017-12-08</td>\n",
       "      <td>False</td>\n",
       "      <td>2017-12-09</td>\n",
       "    </tr>\n",
       "    <tr>\n",
       "      <th>288</th>\n",
       "      <td>25KOL9</td>\n",
       "      <td>SK02</td>\n",
       "      <td>KO174</td>\n",
       "      <td>11</td>\n",
       "      <td>2017-08-25</td>\n",
       "      <td>2017-08-30</td>\n",
       "      <td>False</td>\n",
       "      <td>2017-09-01</td>\n",
       "    </tr>\n",
       "    <tr>\n",
       "      <th>2046</th>\n",
       "      <td>25KOL9</td>\n",
       "      <td>SK56</td>\n",
       "      <td>KO134</td>\n",
       "      <td>8</td>\n",
       "      <td>2018-04-20</td>\n",
       "      <td>2018-05-02</td>\n",
       "      <td>True</td>\n",
       "      <td>2018-04-27</td>\n",
       "    </tr>\n",
       "    <tr>\n",
       "      <th>312</th>\n",
       "      <td>47EFKT</td>\n",
       "      <td>SK00</td>\n",
       "      <td>KO019</td>\n",
       "      <td>13</td>\n",
       "      <td>2018-06-11</td>\n",
       "      <td>2018-06-18</td>\n",
       "      <td>False</td>\n",
       "      <td>2018-06-18</td>\n",
       "    </tr>\n",
       "    <tr>\n",
       "      <th>1846</th>\n",
       "      <td>102ADF</td>\n",
       "      <td>SK97</td>\n",
       "      <td>KO024</td>\n",
       "      <td>13</td>\n",
       "      <td>2017-09-01</td>\n",
       "      <td>2017-09-04</td>\n",
       "      <td>False</td>\n",
       "      <td>2017-09-08</td>\n",
       "    </tr>\n",
       "    <tr>\n",
       "      <th>600</th>\n",
       "      <td>102ADF</td>\n",
       "      <td>SK01</td>\n",
       "      <td>KO042</td>\n",
       "      <td>16</td>\n",
       "      <td>2017-05-26</td>\n",
       "      <td>2017-05-29</td>\n",
       "      <td>False</td>\n",
       "      <td>2017-06-02</td>\n",
       "    </tr>\n",
       "    <tr>\n",
       "      <th>1306</th>\n",
       "      <td>47EFKT</td>\n",
       "      <td>SK56</td>\n",
       "      <td>KO046</td>\n",
       "      <td>20</td>\n",
       "      <td>2018-07-24</td>\n",
       "      <td>2018-07-30</td>\n",
       "      <td>False</td>\n",
       "      <td>2018-07-31</td>\n",
       "    </tr>\n",
       "  </tbody>\n",
       "</table>\n",
       "</div>"
      ],
      "text/plain": [
       "     ID_dodavatele ID_skladu ID_komponenty  Mnozstvi Datum_objednani  \\\n",
       "618         47EFKT      SK00         KO174        12      2018-04-03   \n",
       "265        999DJT8      SK00         KO050         1      2018-05-10   \n",
       "848         102ADF      SK02         KO069        13      2018-04-02   \n",
       "1224        102ADF      SK00         KO064        19      2017-12-02   \n",
       "288         25KOL9      SK02         KO174        11      2017-08-25   \n",
       "2046        25KOL9      SK56         KO134         8      2018-04-20   \n",
       "312         47EFKT      SK00         KO019        13      2018-06-11   \n",
       "1846        102ADF      SK97         KO024        13      2017-09-01   \n",
       "600         102ADF      SK01         KO042        16      2017-05-26   \n",
       "1306        47EFKT      SK56         KO046        20      2018-07-24   \n",
       "\n",
       "     Datum_dodani  Zpozdeno   Deadline  \n",
       "618    2018-04-07     False 2018-04-10  \n",
       "265    2018-05-14     False 2018-05-17  \n",
       "848    2018-04-05     False 2018-04-09  \n",
       "1224   2017-12-08     False 2017-12-09  \n",
       "288    2017-08-30     False 2017-09-01  \n",
       "2046   2018-05-02      True 2018-04-27  \n",
       "312    2018-06-18     False 2018-06-18  \n",
       "1846   2017-09-04     False 2017-09-08  \n",
       "600    2017-05-29     False 2017-06-02  \n",
       "1306   2018-07-30     False 2018-07-31  "
      ]
     },
     "execution_count": 24,
     "metadata": {},
     "output_type": "execute_result"
    }
   ],
   "source": [
    "# zpozdene dodavky:\n",
    "df_dodavky = pd.read_excel(excel_file, sheet_name='dodavky')\n",
    "df_dodavky['Zpozdeno'] = (df_dodavky['Datum_dodani'] - df_dodavky['Datum_objednani']).dt.days.apply(lambda x: x > 7)\n",
    "df_dodavky['Deadline'] = (df_dodavky['Datum_objednani'] + pd.Timedelta(days=7))\n",
    "df_dodavky.shape\n",
    "df_dodavky.sample(10)"
   ]
  },
  {
   "cell_type": "markdown",
   "id": "e2cac03d",
   "metadata": {},
   "source": [
    "# 1. uloha\n",
    "- merge --> group by --> sum pro vypocet celkovych nakladu na produkt"
   ]
  },
  {
   "cell_type": "code",
   "execution_count": 25,
   "id": "ea1b3b5e",
   "metadata": {},
   "outputs": [
    {
     "data": {
      "text/html": [
       "<div>\n",
       "<style scoped>\n",
       "    .dataframe tbody tr th:only-of-type {\n",
       "        vertical-align: middle;\n",
       "    }\n",
       "\n",
       "    .dataframe tbody tr th {\n",
       "        vertical-align: top;\n",
       "    }\n",
       "\n",
       "    .dataframe thead th {\n",
       "        text-align: right;\n",
       "    }\n",
       "</style>\n",
       "<table border=\"1\" class=\"dataframe\">\n",
       "  <thead>\n",
       "    <tr style=\"text-align: right;\">\n",
       "      <th></th>\n",
       "      <th>ID_komponenty</th>\n",
       "      <th>Porizovaci_cena</th>\n",
       "    </tr>\n",
       "  </thead>\n",
       "  <tbody>\n",
       "    <tr>\n",
       "      <th>0</th>\n",
       "      <td>KO001</td>\n",
       "      <td>11600</td>\n",
       "    </tr>\n",
       "    <tr>\n",
       "      <th>1</th>\n",
       "      <td>KO002</td>\n",
       "      <td>2550</td>\n",
       "    </tr>\n",
       "    <tr>\n",
       "      <th>2</th>\n",
       "      <td>KO003</td>\n",
       "      <td>13300</td>\n",
       "    </tr>\n",
       "    <tr>\n",
       "      <th>3</th>\n",
       "      <td>KO004</td>\n",
       "      <td>2350</td>\n",
       "    </tr>\n",
       "    <tr>\n",
       "      <th>4</th>\n",
       "      <td>KO005</td>\n",
       "      <td>14950</td>\n",
       "    </tr>\n",
       "  </tbody>\n",
       "</table>\n",
       "</div>"
      ],
      "text/plain": [
       "  ID_komponenty  Porizovaci_cena\n",
       "0         KO001            11600\n",
       "1         KO002             2550\n",
       "2         KO003            13300\n",
       "3         KO004             2350\n",
       "4         KO005            14950"
      ]
     },
     "execution_count": 25,
     "metadata": {},
     "output_type": "execute_result"
    }
   ],
   "source": [
    "df_ciselniky.head()"
   ]
  },
  {
   "cell_type": "code",
   "execution_count": 26,
   "id": "9e044842",
   "metadata": {},
   "outputs": [
    {
     "data": {
      "text/html": [
       "<div>\n",
       "<style scoped>\n",
       "    .dataframe tbody tr th:only-of-type {\n",
       "        vertical-align: middle;\n",
       "    }\n",
       "\n",
       "    .dataframe tbody tr th {\n",
       "        vertical-align: top;\n",
       "    }\n",
       "\n",
       "    .dataframe thead th {\n",
       "        text-align: right;\n",
       "    }\n",
       "</style>\n",
       "<table border=\"1\" class=\"dataframe\">\n",
       "  <thead>\n",
       "    <tr style=\"text-align: right;\">\n",
       "      <th></th>\n",
       "      <th>ID_produktu</th>\n",
       "      <th>ID_komponenty</th>\n",
       "      <th>Mnozstvi</th>\n",
       "    </tr>\n",
       "  </thead>\n",
       "  <tbody>\n",
       "    <tr>\n",
       "      <th>0</th>\n",
       "      <td>ND101</td>\n",
       "      <td>KO043</td>\n",
       "      <td>2</td>\n",
       "    </tr>\n",
       "    <tr>\n",
       "      <th>1</th>\n",
       "      <td>ND101</td>\n",
       "      <td>KO124</td>\n",
       "      <td>1</td>\n",
       "    </tr>\n",
       "    <tr>\n",
       "      <th>2</th>\n",
       "      <td>ND101</td>\n",
       "      <td>KO193</td>\n",
       "      <td>3</td>\n",
       "    </tr>\n",
       "    <tr>\n",
       "      <th>3</th>\n",
       "      <td>ND101</td>\n",
       "      <td>KO120</td>\n",
       "      <td>1</td>\n",
       "    </tr>\n",
       "    <tr>\n",
       "      <th>4</th>\n",
       "      <td>ND102</td>\n",
       "      <td>KO160</td>\n",
       "      <td>1</td>\n",
       "    </tr>\n",
       "  </tbody>\n",
       "</table>\n",
       "</div>"
      ],
      "text/plain": [
       "  ID_produktu ID_komponenty  Mnozstvi\n",
       "0       ND101         KO043         2\n",
       "1       ND101         KO124         1\n",
       "2       ND101         KO193         3\n",
       "3       ND101         KO120         1\n",
       "4       ND102         KO160         1"
      ]
     },
     "execution_count": 26,
     "metadata": {},
     "output_type": "execute_result"
    }
   ],
   "source": [
    "df_kusovnik.head()"
   ]
  },
  {
   "cell_type": "code",
   "execution_count": 27,
   "id": "5d5dceb4",
   "metadata": {},
   "outputs": [
    {
     "name": "stdout",
     "output_type": "stream",
     "text": [
      "<class 'pandas.core.frame.DataFrame'>\n",
      "RangeIndex: 77 entries, 0 to 76\n",
      "Data columns (total 5 columns):\n",
      " #   Column                   Non-Null Count  Dtype \n",
      "---  ------                   --------------  ----- \n",
      " 0   ID_produktu              77 non-null     object\n",
      " 1   ID_komponenty            77 non-null     object\n",
      " 2   Mnozstvi                 77 non-null     int64 \n",
      " 3   Porizovaci_cena          77 non-null     int64 \n",
      " 4   celkova_cena_komponenty  77 non-null     int64 \n",
      "dtypes: int64(3), object(2)\n",
      "memory usage: 3.1+ KB\n"
     ]
    },
    {
     "data": {
      "text/plain": [
       "(77, 5)"
      ]
     },
     "execution_count": 27,
     "metadata": {},
     "output_type": "execute_result"
    }
   ],
   "source": [
    "df_merged = pd.merge(df_kusovnik, df_ciselniky, on='ID_komponenty', how='left')\n",
    "df_merged['celkova_cena_komponenty'] = df_merged['Mnozstvi'] * df_merged['Porizovaci_cena']\n",
    "df_merged.info()\n",
    "df_merged.shape\n"
   ]
  },
  {
   "cell_type": "markdown",
   "id": "d41e1113",
   "metadata": {},
   "source": [
    "### ID_produktu  a jeho celkové náklady:"
   ]
  },
  {
   "cell_type": "code",
   "execution_count": 28,
   "id": "40c03465",
   "metadata": {},
   "outputs": [
    {
     "data": {
      "text/html": [
       "<div>\n",
       "<style scoped>\n",
       "    .dataframe tbody tr th:only-of-type {\n",
       "        vertical-align: middle;\n",
       "    }\n",
       "\n",
       "    .dataframe tbody tr th {\n",
       "        vertical-align: top;\n",
       "    }\n",
       "\n",
       "    .dataframe thead th {\n",
       "        text-align: right;\n",
       "    }\n",
       "</style>\n",
       "<table border=\"1\" class=\"dataframe\">\n",
       "  <thead>\n",
       "    <tr style=\"text-align: right;\">\n",
       "      <th></th>\n",
       "      <th>ID_produktu</th>\n",
       "      <th>celkova_cena_komponenty</th>\n",
       "    </tr>\n",
       "  </thead>\n",
       "  <tbody>\n",
       "    <tr>\n",
       "      <th>10</th>\n",
       "      <td>ND111</td>\n",
       "      <td>79950</td>\n",
       "    </tr>\n",
       "    <tr>\n",
       "      <th>18</th>\n",
       "      <td>ND119</td>\n",
       "      <td>74550</td>\n",
       "    </tr>\n",
       "    <tr>\n",
       "      <th>21</th>\n",
       "      <td>ND122</td>\n",
       "      <td>73100</td>\n",
       "    </tr>\n",
       "    <tr>\n",
       "      <th>6</th>\n",
       "      <td>ND107</td>\n",
       "      <td>65400</td>\n",
       "    </tr>\n",
       "    <tr>\n",
       "      <th>8</th>\n",
       "      <td>ND109</td>\n",
       "      <td>64800</td>\n",
       "    </tr>\n",
       "    <tr>\n",
       "      <th>5</th>\n",
       "      <td>ND106</td>\n",
       "      <td>64050</td>\n",
       "    </tr>\n",
       "    <tr>\n",
       "      <th>14</th>\n",
       "      <td>ND115</td>\n",
       "      <td>63750</td>\n",
       "    </tr>\n",
       "    <tr>\n",
       "      <th>13</th>\n",
       "      <td>ND114</td>\n",
       "      <td>58650</td>\n",
       "    </tr>\n",
       "    <tr>\n",
       "      <th>19</th>\n",
       "      <td>ND120</td>\n",
       "      <td>57250</td>\n",
       "    </tr>\n",
       "    <tr>\n",
       "      <th>2</th>\n",
       "      <td>ND103</td>\n",
       "      <td>52650</td>\n",
       "    </tr>\n",
       "    <tr>\n",
       "      <th>4</th>\n",
       "      <td>ND105</td>\n",
       "      <td>52000</td>\n",
       "    </tr>\n",
       "    <tr>\n",
       "      <th>7</th>\n",
       "      <td>ND108</td>\n",
       "      <td>45000</td>\n",
       "    </tr>\n",
       "    <tr>\n",
       "      <th>9</th>\n",
       "      <td>ND110</td>\n",
       "      <td>43600</td>\n",
       "    </tr>\n",
       "    <tr>\n",
       "      <th>15</th>\n",
       "      <td>ND116</td>\n",
       "      <td>40050</td>\n",
       "    </tr>\n",
       "    <tr>\n",
       "      <th>23</th>\n",
       "      <td>ND124</td>\n",
       "      <td>39200</td>\n",
       "    </tr>\n",
       "    <tr>\n",
       "      <th>22</th>\n",
       "      <td>ND123</td>\n",
       "      <td>33500</td>\n",
       "    </tr>\n",
       "    <tr>\n",
       "      <th>0</th>\n",
       "      <td>ND101</td>\n",
       "      <td>29650</td>\n",
       "    </tr>\n",
       "    <tr>\n",
       "      <th>16</th>\n",
       "      <td>ND117</td>\n",
       "      <td>21850</td>\n",
       "    </tr>\n",
       "    <tr>\n",
       "      <th>3</th>\n",
       "      <td>ND104</td>\n",
       "      <td>20600</td>\n",
       "    </tr>\n",
       "    <tr>\n",
       "      <th>20</th>\n",
       "      <td>ND121</td>\n",
       "      <td>16700</td>\n",
       "    </tr>\n",
       "    <tr>\n",
       "      <th>12</th>\n",
       "      <td>ND113</td>\n",
       "      <td>13350</td>\n",
       "    </tr>\n",
       "    <tr>\n",
       "      <th>1</th>\n",
       "      <td>ND102</td>\n",
       "      <td>12650</td>\n",
       "    </tr>\n",
       "    <tr>\n",
       "      <th>11</th>\n",
       "      <td>ND112</td>\n",
       "      <td>7600</td>\n",
       "    </tr>\n",
       "    <tr>\n",
       "      <th>17</th>\n",
       "      <td>ND118</td>\n",
       "      <td>4900</td>\n",
       "    </tr>\n",
       "  </tbody>\n",
       "</table>\n",
       "</div>"
      ],
      "text/plain": [
       "   ID_produktu  celkova_cena_komponenty\n",
       "10       ND111                    79950\n",
       "18       ND119                    74550\n",
       "21       ND122                    73100\n",
       "6        ND107                    65400\n",
       "8        ND109                    64800\n",
       "5        ND106                    64050\n",
       "14       ND115                    63750\n",
       "13       ND114                    58650\n",
       "19       ND120                    57250\n",
       "2        ND103                    52650\n",
       "4        ND105                    52000\n",
       "7        ND108                    45000\n",
       "9        ND110                    43600\n",
       "15       ND116                    40050\n",
       "23       ND124                    39200\n",
       "22       ND123                    33500\n",
       "0        ND101                    29650\n",
       "16       ND117                    21850\n",
       "3        ND104                    20600\n",
       "20       ND121                    16700\n",
       "12       ND113                    13350\n",
       "1        ND102                    12650\n",
       "11       ND112                     7600\n",
       "17       ND118                     4900"
      ]
     },
     "execution_count": 28,
     "metadata": {},
     "output_type": "execute_result"
    }
   ],
   "source": [
    "df_total_price = df_merged.groupby('ID_produktu')['celkova_cena_komponenty'].sum().reset_index()\n",
    "df_total_price.sort_values(by='celkova_cena_komponenty', ascending=False)"
   ]
  },
  {
   "cell_type": "markdown",
   "id": "44923c27-854b-4faf-b5e1-9a563c061643",
   "metadata": {},
   "source": [
    "# 2. uloha: vyvoj vyroby za posledni rok po mesicich v jednotlivych zavodech"
   ]
  },
  {
   "cell_type": "code",
   "execution_count": 29,
   "id": "cb794543-807e-4e63-b1db-2f33c42db783",
   "metadata": {},
   "outputs": [
    {
     "name": "stdout",
     "output_type": "stream",
     "text": [
      "<class 'pandas.core.frame.DataFrame'>\n",
      "RangeIndex: 1129 entries, 0 to 1128\n",
      "Data columns (total 6 columns):\n",
      " #   Column         Non-Null Count  Dtype \n",
      "---  ------         --------------  ----- \n",
      " 0   ID_zavodu      1129 non-null   object\n",
      " 1   ID_sortimentu  1129 non-null   object\n",
      " 2   Rok            1129 non-null   int32 \n",
      " 3   Mesic          1129 non-null   int32 \n",
      " 4   Rok-Mesic      1129 non-null   object\n",
      " 5   Mnozstvi       1129 non-null   Int64 \n",
      "dtypes: Int64(1), int32(2), object(3)\n",
      "memory usage: 45.3+ KB\n"
     ]
    },
    {
     "data": {
      "text/html": [
       "<div>\n",
       "<style scoped>\n",
       "    .dataframe tbody tr th:only-of-type {\n",
       "        vertical-align: middle;\n",
       "    }\n",
       "\n",
       "    .dataframe tbody tr th {\n",
       "        vertical-align: top;\n",
       "    }\n",
       "\n",
       "    .dataframe thead th {\n",
       "        text-align: right;\n",
       "    }\n",
       "</style>\n",
       "<table border=\"1\" class=\"dataframe\">\n",
       "  <thead>\n",
       "    <tr style=\"text-align: right;\">\n",
       "      <th></th>\n",
       "      <th>ID_zavodu</th>\n",
       "      <th>Rok</th>\n",
       "      <th>Rok-Mesic</th>\n",
       "      <th>Mesic</th>\n",
       "      <th>Mnozstvi</th>\n",
       "    </tr>\n",
       "  </thead>\n",
       "  <tbody>\n",
       "    <tr>\n",
       "      <th>0</th>\n",
       "      <td>ZP10</td>\n",
       "      <td>2017</td>\n",
       "      <td>2017-01</td>\n",
       "      <td>1</td>\n",
       "      <td>518</td>\n",
       "    </tr>\n",
       "    <tr>\n",
       "      <th>1</th>\n",
       "      <td>ZP10</td>\n",
       "      <td>2017</td>\n",
       "      <td>2017-02</td>\n",
       "      <td>2</td>\n",
       "      <td>600</td>\n",
       "    </tr>\n",
       "    <tr>\n",
       "      <th>2</th>\n",
       "      <td>ZP10</td>\n",
       "      <td>2017</td>\n",
       "      <td>2017-03</td>\n",
       "      <td>3</td>\n",
       "      <td>751</td>\n",
       "    </tr>\n",
       "    <tr>\n",
       "      <th>3</th>\n",
       "      <td>ZP10</td>\n",
       "      <td>2017</td>\n",
       "      <td>2017-04</td>\n",
       "      <td>4</td>\n",
       "      <td>454</td>\n",
       "    </tr>\n",
       "    <tr>\n",
       "      <th>4</th>\n",
       "      <td>ZP10</td>\n",
       "      <td>2017</td>\n",
       "      <td>2017-05</td>\n",
       "      <td>5</td>\n",
       "      <td>826</td>\n",
       "    </tr>\n",
       "  </tbody>\n",
       "</table>\n",
       "</div>"
      ],
      "text/plain": [
       "  ID_zavodu   Rok Rok-Mesic  Mesic  Mnozstvi\n",
       "0      ZP10  2017   2017-01      1       518\n",
       "1      ZP10  2017   2017-02      2       600\n",
       "2      ZP10  2017   2017-03      3       751\n",
       "3      ZP10  2017   2017-04      4       454\n",
       "4      ZP10  2017   2017-05      5       826"
      ]
     },
     "execution_count": 29,
     "metadata": {},
     "output_type": "execute_result"
    }
   ],
   "source": [
    "# Celkovy pocet produktu vyrobenych zavodem v dany mesic\n",
    "df_vyroba_mesice_zavody = df_vyroba.groupby(['ID_zavodu', 'Rok', 'Rok-Mesic', 'Mesic'])['Mnozstvi'].sum().reset_index()\n",
    "# Celkovy pocet produktu daneho typu vyrobenych zavodem v dany mesic\n",
    "df_vyroba_mesice= df_vyroba.groupby(['ID_zavodu', 'ID_sortimentu', 'Rok', 'Mesic', 'Rok-Mesic'])['Mnozstvi'].sum().reset_index()\n",
    "df_vyroba_mesice.info()\n",
    "df_vyroba_mesice_zavody.head()"
   ]
  },
  {
   "cell_type": "markdown",
   "id": "8901cc7a",
   "metadata": {},
   "source": [
    "## Celkova vyroba po mesicich"
   ]
  },
  {
   "cell_type": "code",
   "execution_count": 30,
   "id": "fe7fe5d2",
   "metadata": {},
   "outputs": [
    {
     "data": {
      "text/plain": [
       "Text(0.5, 0, 'Datum [rok-měsíc]')"
      ]
     },
     "execution_count": 30,
     "metadata": {},
     "output_type": "execute_result"
    },
    {
     "data": {
      "image/png": "[encoded data removed]",
      "text/plain": [
       "<Figure size 1000x500 with 1 Axes>"
      ]
     },
     "metadata": {},
     "output_type": "display_data"
    }
   ],
   "source": [
    "fig1 = see.lineplot(data = df_vyroba.groupby('Rok-Mesic')['Mnozstvi'].sum().reset_index(),\n",
    "\t\t\t\t\t x='Rok-Mesic', y = 'Mnozstvi')\n",
    "fig1.figure.set_size_inches(10,5)\n",
    "#fig1.set_xticklabels(rotation=45, ha='right')\n",
    "plt.xticks(rotation=45, ha='right')\n",
    "plt.ylabel('Počet vyrobených dílů')\n",
    "plt.xlabel('Datum [rok-měsíc]')"
   ]
  },
  {
   "cell_type": "markdown",
   "id": "cc0814bd",
   "metadata": {},
   "source": [
    "# Celkova vyrovba po mesicich - zavody"
   ]
  },
  {
   "cell_type": "code",
   "execution_count": 31,
   "id": "ac9ed4e3",
   "metadata": {},
   "outputs": [
    {
     "data": {
      "text/plain": [
       "Text(0.5, 0, 'Datum [rok-měsíc]')"
      ]
     },
     "execution_count": 31,
     "metadata": {},
     "output_type": "execute_result"
    },
    {
     "data": {
      "image/png": "[encoded data removed]",
      "text/plain": [
       "<Figure size 1000x500 with 1 Axes>"
      ]
     },
     "metadata": {},
     "output_type": "display_data"
    }
   ],
   "source": [
    "#see.set_context(\"notebook\", font_scale=0.7)\n",
    "roky = (2017,2019)\n",
    "palette = see.color_palette(\"hls\", 6)\n",
    "\n",
    "fig1 = see.lineplot(data=df_vyroba_mesice_zavody.query(\"(Rok >= @roky[0]) & (Rok <= @roky[1])\"), x='Rok-Mesic', y = 'Mnozstvi', hue = \"ID_zavodu\")\n",
    "fig1.figure.set_size_inches(10,5)\n",
    "#fig1.set_xticklabels(rotation=45, ha='right')\n",
    "plt.title('Výroba po měsících - závody')\n",
    "plt.xticks(rotation=45, ha='right')\n",
    "plt.ylabel('Počet vyrobených dílů')\n",
    "plt.xlabel('Datum [rok-měsíc]')"
   ]
  },
  {
   "cell_type": "markdown",
   "id": "35846e27",
   "metadata": {},
   "source": [
    "__Sloupcový graf pro jednotlivý závod. Je třeba zadat ID závodu do proměnné zavod__"
   ]
  },
  {
   "cell_type": "code",
   "execution_count": 32,
   "id": "eaec5c1e",
   "metadata": {},
   "outputs": [
    {
     "data": {
      "text/plain": [
       "<seaborn.axisgrid.FacetGrid at 0x79238239ada0>"
      ]
     },
     "execution_count": 32,
     "metadata": {},
     "output_type": "execute_result"
    },
    {
     "data": {
      "image/png": "[encoded data removed]",
      "text/plain": [
       "<Figure size 1200x600 with 1 Axes>"
      ]
     },
     "metadata": {},
     "output_type": "display_data"
    }
   ],
   "source": [
    "\n",
    "roky = (2016,2019)\n",
    "zavod = 'ZP20'\n",
    "\n",
    "fig1 = see.catplot(data=df_vyroba_mesice_zavody.query(\"(Rok >= @roky[0]) & (Rok <= @roky[1]) & (ID_zavodu == @zavod)\"), x='Rok-Mesic', y = 'Mnozstvi', hue = \"ID_zavodu\",kind='bar' )\n",
    "fig1.figure.set_size_inches(12,6)\n",
    "fig1.set_xticklabels(rotation=45, ha='right')"
   ]
  },
  {
   "cell_type": "markdown",
   "id": "2d4c5ec7",
   "metadata": {},
   "source": [
    "# 3. Úloha dodávky se zpožděním\n"
   ]
  },
  {
   "cell_type": "code",
   "execution_count": 33,
   "id": "5eb1c130",
   "metadata": {},
   "outputs": [
    {
     "name": "stdout",
     "output_type": "stream",
     "text": [
      "Casove obdobi: 2017-01-01 00:00:00 2018-08-31 00:00:00\n",
      "Celkovy pocet dodavek v datasetu:  2058\n",
      "Celkovy pocet zpozdenych dodavek v datasetu:  239\n",
      "% zpozdenych dodavek:  11.613216715257535\n"
     ]
    }
   ],
   "source": [
    "df_dodavky['Dodaci_doba'] = df_dodavky['Datum_dodani'] - df_dodavky['Datum_objednani']\n",
    "df_dodavky_zpozdene = df_dodavky.query('Zpozdeno == True')\n",
    "print(f\"Casove obdobi: {df_dodavky['Datum_objednani'].min()} {df_dodavky['Datum_objednani'].max()}\")\n",
    "print(\"Celkovy pocet dodavek v datasetu: \", len(df_dodavky))\n",
    "print(\"Celkovy pocet zpozdenych dodavek v datasetu: \", len(df_dodavky_zpozdene))\n",
    "print(\"% zpozdenych dodavek: \", (1 - (len(df_dodavky) - len(df_dodavky_zpozdene)) / len(df_dodavky)) * 100)"
   ]
  },
  {
   "cell_type": "code",
   "execution_count": 34,
   "id": "a748c637",
   "metadata": {},
   "outputs": [
    {
     "data": {
      "text/html": [
       "<div>\n",
       "<style scoped>\n",
       "    .dataframe tbody tr th:only-of-type {\n",
       "        vertical-align: middle;\n",
       "    }\n",
       "\n",
       "    .dataframe tbody tr th {\n",
       "        vertical-align: top;\n",
       "    }\n",
       "\n",
       "    .dataframe thead th {\n",
       "        text-align: right;\n",
       "    }\n",
       "</style>\n",
       "<table border=\"1\" class=\"dataframe\">\n",
       "  <thead>\n",
       "    <tr style=\"text-align: right;\">\n",
       "      <th></th>\n",
       "      <th>ID_dodavatele</th>\n",
       "      <th>ID_skladu</th>\n",
       "      <th>ID_komponenty</th>\n",
       "      <th>Mnozstvi</th>\n",
       "      <th>Datum_objednani</th>\n",
       "      <th>Datum_dodani</th>\n",
       "      <th>Zpozdeno</th>\n",
       "      <th>Deadline</th>\n",
       "      <th>Dodaci_doba</th>\n",
       "    </tr>\n",
       "  </thead>\n",
       "  <tbody>\n",
       "    <tr>\n",
       "      <th>6</th>\n",
       "      <td>25KOL9</td>\n",
       "      <td>SK97</td>\n",
       "      <td>KO049</td>\n",
       "      <td>1</td>\n",
       "      <td>2018-03-29</td>\n",
       "      <td>2018-04-11</td>\n",
       "      <td>True</td>\n",
       "      <td>2018-04-05</td>\n",
       "      <td>13 days</td>\n",
       "    </tr>\n",
       "    <tr>\n",
       "      <th>10</th>\n",
       "      <td>47EFKT</td>\n",
       "      <td>SK56</td>\n",
       "      <td>KO044</td>\n",
       "      <td>15</td>\n",
       "      <td>2017-02-28</td>\n",
       "      <td>2017-03-10</td>\n",
       "      <td>True</td>\n",
       "      <td>2017-03-07</td>\n",
       "      <td>10 days</td>\n",
       "    </tr>\n",
       "    <tr>\n",
       "      <th>21</th>\n",
       "      <td>25KOL9</td>\n",
       "      <td>SK56</td>\n",
       "      <td>KO142</td>\n",
       "      <td>2</td>\n",
       "      <td>2018-06-08</td>\n",
       "      <td>2018-06-16</td>\n",
       "      <td>True</td>\n",
       "      <td>2018-06-15</td>\n",
       "      <td>8 days</td>\n",
       "    </tr>\n",
       "    <tr>\n",
       "      <th>27</th>\n",
       "      <td>47EFKT</td>\n",
       "      <td>SK56</td>\n",
       "      <td>KO070</td>\n",
       "      <td>18</td>\n",
       "      <td>2017-07-17</td>\n",
       "      <td>2017-07-26</td>\n",
       "      <td>True</td>\n",
       "      <td>2017-07-24</td>\n",
       "      <td>9 days</td>\n",
       "    </tr>\n",
       "    <tr>\n",
       "      <th>41</th>\n",
       "      <td>25KOL9</td>\n",
       "      <td>SK11</td>\n",
       "      <td>KO204</td>\n",
       "      <td>2</td>\n",
       "      <td>2017-06-01</td>\n",
       "      <td>2017-06-13</td>\n",
       "      <td>True</td>\n",
       "      <td>2017-06-08</td>\n",
       "      <td>12 days</td>\n",
       "    </tr>\n",
       "    <tr>\n",
       "      <th>...</th>\n",
       "      <td>...</td>\n",
       "      <td>...</td>\n",
       "      <td>...</td>\n",
       "      <td>...</td>\n",
       "      <td>...</td>\n",
       "      <td>...</td>\n",
       "      <td>...</td>\n",
       "      <td>...</td>\n",
       "      <td>...</td>\n",
       "    </tr>\n",
       "    <tr>\n",
       "      <th>2038</th>\n",
       "      <td>999DJT8</td>\n",
       "      <td>SK97</td>\n",
       "      <td>KO177</td>\n",
       "      <td>6</td>\n",
       "      <td>2017-02-19</td>\n",
       "      <td>2017-03-06</td>\n",
       "      <td>True</td>\n",
       "      <td>2017-02-26</td>\n",
       "      <td>15 days</td>\n",
       "    </tr>\n",
       "    <tr>\n",
       "      <th>2041</th>\n",
       "      <td>47EFKT</td>\n",
       "      <td>SK86A</td>\n",
       "      <td>KO069</td>\n",
       "      <td>5</td>\n",
       "      <td>2017-04-20</td>\n",
       "      <td>2017-05-01</td>\n",
       "      <td>True</td>\n",
       "      <td>2017-04-27</td>\n",
       "      <td>11 days</td>\n",
       "    </tr>\n",
       "    <tr>\n",
       "      <th>2046</th>\n",
       "      <td>25KOL9</td>\n",
       "      <td>SK56</td>\n",
       "      <td>KO134</td>\n",
       "      <td>8</td>\n",
       "      <td>2018-04-20</td>\n",
       "      <td>2018-05-02</td>\n",
       "      <td>True</td>\n",
       "      <td>2018-04-27</td>\n",
       "      <td>12 days</td>\n",
       "    </tr>\n",
       "    <tr>\n",
       "      <th>2048</th>\n",
       "      <td>25KOL9</td>\n",
       "      <td>SK01</td>\n",
       "      <td>KO172</td>\n",
       "      <td>16</td>\n",
       "      <td>2017-05-30</td>\n",
       "      <td>2017-06-09</td>\n",
       "      <td>True</td>\n",
       "      <td>2017-06-06</td>\n",
       "      <td>10 days</td>\n",
       "    </tr>\n",
       "    <tr>\n",
       "      <th>2051</th>\n",
       "      <td>47EFKT</td>\n",
       "      <td>SK86A</td>\n",
       "      <td>KO046</td>\n",
       "      <td>17</td>\n",
       "      <td>2018-02-20</td>\n",
       "      <td>2018-03-04</td>\n",
       "      <td>True</td>\n",
       "      <td>2018-02-27</td>\n",
       "      <td>12 days</td>\n",
       "    </tr>\n",
       "  </tbody>\n",
       "</table>\n",
       "<p>239 rows × 9 columns</p>\n",
       "</div>"
      ],
      "text/plain": [
       "     ID_dodavatele ID_skladu ID_komponenty  Mnozstvi Datum_objednani  \\\n",
       "6           25KOL9      SK97         KO049         1      2018-03-29   \n",
       "10          47EFKT      SK56         KO044        15      2017-02-28   \n",
       "21          25KOL9      SK56         KO142         2      2018-06-08   \n",
       "27          47EFKT      SK56         KO070        18      2017-07-17   \n",
       "41          25KOL9      SK11         KO204         2      2017-06-01   \n",
       "...            ...       ...           ...       ...             ...   \n",
       "2038       999DJT8      SK97         KO177         6      2017-02-19   \n",
       "2041        47EFKT     SK86A         KO069         5      2017-04-20   \n",
       "2046        25KOL9      SK56         KO134         8      2018-04-20   \n",
       "2048        25KOL9      SK01         KO172        16      2017-05-30   \n",
       "2051        47EFKT     SK86A         KO046        17      2018-02-20   \n",
       "\n",
       "     Datum_dodani  Zpozdeno   Deadline Dodaci_doba  \n",
       "6      2018-04-11      True 2018-04-05     13 days  \n",
       "10     2017-03-10      True 2017-03-07     10 days  \n",
       "21     2018-06-16      True 2018-06-15      8 days  \n",
       "27     2017-07-26      True 2017-07-24      9 days  \n",
       "41     2017-06-13      True 2017-06-08     12 days  \n",
       "...           ...       ...        ...         ...  \n",
       "2038   2017-03-06      True 2017-02-26     15 days  \n",
       "2041   2017-05-01      True 2017-04-27     11 days  \n",
       "2046   2018-05-02      True 2018-04-27     12 days  \n",
       "2048   2017-06-09      True 2017-06-06     10 days  \n",
       "2051   2018-03-04      True 2018-02-27     12 days  \n",
       "\n",
       "[239 rows x 9 columns]"
      ]
     },
     "execution_count": 34,
     "metadata": {},
     "output_type": "execute_result"
    }
   ],
   "source": [
    "df_dodavky_zpozdene"
   ]
  },
  {
   "cell_type": "markdown",
   "id": "112c6b7a",
   "metadata": {},
   "source": [
    "## Pocet dodavek od kazdeho dodavatele"
   ]
  },
  {
   "cell_type": "code",
   "execution_count": 35,
   "id": "1903b883",
   "metadata": {},
   "outputs": [
    {
     "data": {
      "text/html": [
       "<div>\n",
       "<style scoped>\n",
       "    .dataframe tbody tr th:only-of-type {\n",
       "        vertical-align: middle;\n",
       "    }\n",
       "\n",
       "    .dataframe tbody tr th {\n",
       "        vertical-align: top;\n",
       "    }\n",
       "\n",
       "    .dataframe thead th {\n",
       "        text-align: right;\n",
       "    }\n",
       "</style>\n",
       "<table border=\"1\" class=\"dataframe\">\n",
       "  <thead>\n",
       "    <tr style=\"text-align: right;\">\n",
       "      <th></th>\n",
       "      <th>ID_dodavatele</th>\n",
       "      <th>Pocet_objednavek</th>\n",
       "    </tr>\n",
       "  </thead>\n",
       "  <tbody>\n",
       "    <tr>\n",
       "      <th>0</th>\n",
       "      <td>102ADF</td>\n",
       "      <td>527</td>\n",
       "    </tr>\n",
       "    <tr>\n",
       "      <th>1</th>\n",
       "      <td>25KOL9</td>\n",
       "      <td>535</td>\n",
       "    </tr>\n",
       "    <tr>\n",
       "      <th>2</th>\n",
       "      <td>47EFKT</td>\n",
       "      <td>509</td>\n",
       "    </tr>\n",
       "    <tr>\n",
       "      <th>3</th>\n",
       "      <td>999DJT8</td>\n",
       "      <td>487</td>\n",
       "    </tr>\n",
       "  </tbody>\n",
       "</table>\n",
       "</div>"
      ],
      "text/plain": [
       "  ID_dodavatele  Pocet_objednavek\n",
       "0        102ADF               527\n",
       "1        25KOL9               535\n",
       "2        47EFKT               509\n",
       "3       999DJT8               487"
      ]
     },
     "execution_count": 35,
     "metadata": {},
     "output_type": "execute_result"
    }
   ],
   "source": [
    "df_dodavky.groupby('ID_dodavatele')['ID_komponenty'].count().reset_index(name='Pocet_objednavek')"
   ]
  },
  {
   "cell_type": "markdown",
   "id": "f841b041",
   "metadata": {},
   "source": [
    "## pocet zpozdenych dodavek od dodavatele"
   ]
  },
  {
   "cell_type": "code",
   "execution_count": 36,
   "id": "dde894db",
   "metadata": {},
   "outputs": [
    {
     "data": {
      "text/html": [
       "<div>\n",
       "<style scoped>\n",
       "    .dataframe tbody tr th:only-of-type {\n",
       "        vertical-align: middle;\n",
       "    }\n",
       "\n",
       "    .dataframe tbody tr th {\n",
       "        vertical-align: top;\n",
       "    }\n",
       "\n",
       "    .dataframe thead th {\n",
       "        text-align: right;\n",
       "    }\n",
       "</style>\n",
       "<table border=\"1\" class=\"dataframe\">\n",
       "  <thead>\n",
       "    <tr style=\"text-align: right;\">\n",
       "      <th></th>\n",
       "      <th>ID_dodavatele</th>\n",
       "      <th>Pocet_zpozdenych_objednavek</th>\n",
       "    </tr>\n",
       "  </thead>\n",
       "  <tbody>\n",
       "    <tr>\n",
       "      <th>0</th>\n",
       "      <td>102ADF</td>\n",
       "      <td>60</td>\n",
       "    </tr>\n",
       "    <tr>\n",
       "      <th>1</th>\n",
       "      <td>25KOL9</td>\n",
       "      <td>64</td>\n",
       "    </tr>\n",
       "    <tr>\n",
       "      <th>2</th>\n",
       "      <td>47EFKT</td>\n",
       "      <td>64</td>\n",
       "    </tr>\n",
       "    <tr>\n",
       "      <th>3</th>\n",
       "      <td>999DJT8</td>\n",
       "      <td>51</td>\n",
       "    </tr>\n",
       "  </tbody>\n",
       "</table>\n",
       "</div>"
      ],
      "text/plain": [
       "  ID_dodavatele  Pocet_zpozdenych_objednavek\n",
       "0        102ADF                           60\n",
       "1        25KOL9                           64\n",
       "2        47EFKT                           64\n",
       "3       999DJT8                           51"
      ]
     },
     "execution_count": 36,
     "metadata": {},
     "output_type": "execute_result"
    }
   ],
   "source": [
    "df_dodavky_zpozdene.groupby('ID_dodavatele').size().reset_index(name= 'Pocet_zpozdenych_objednavek')\n",
    "#df_dodavky_zpozdene.groupby('ID_dodavatele')['ID_komponenty'].count().reset_index()"
   ]
  },
  {
   "cell_type": "markdown",
   "id": "d25ca858",
   "metadata": {},
   "source": [
    "## Mnozstvi nahradnich dilu od kazdeho dodavatele"
   ]
  },
  {
   "cell_type": "code",
   "execution_count": 37,
   "id": "d1519275",
   "metadata": {},
   "outputs": [
    {
     "data": {
      "text/html": [
       "<div>\n",
       "<style scoped>\n",
       "    .dataframe tbody tr th:only-of-type {\n",
       "        vertical-align: middle;\n",
       "    }\n",
       "\n",
       "    .dataframe tbody tr th {\n",
       "        vertical-align: top;\n",
       "    }\n",
       "\n",
       "    .dataframe thead th {\n",
       "        text-align: right;\n",
       "    }\n",
       "</style>\n",
       "<table border=\"1\" class=\"dataframe\">\n",
       "  <thead>\n",
       "    <tr style=\"text-align: right;\">\n",
       "      <th></th>\n",
       "      <th>ID_dodavatele</th>\n",
       "      <th>Celkove_mnozstvi</th>\n",
       "    </tr>\n",
       "  </thead>\n",
       "  <tbody>\n",
       "    <tr>\n",
       "      <th>0</th>\n",
       "      <td>102ADF</td>\n",
       "      <td>5698</td>\n",
       "    </tr>\n",
       "    <tr>\n",
       "      <th>1</th>\n",
       "      <td>25KOL9</td>\n",
       "      <td>5527</td>\n",
       "    </tr>\n",
       "    <tr>\n",
       "      <th>2</th>\n",
       "      <td>47EFKT</td>\n",
       "      <td>5325</td>\n",
       "    </tr>\n",
       "    <tr>\n",
       "      <th>3</th>\n",
       "      <td>999DJT8</td>\n",
       "      <td>4955</td>\n",
       "    </tr>\n",
       "  </tbody>\n",
       "</table>\n",
       "</div>"
      ],
      "text/plain": [
       "  ID_dodavatele  Celkove_mnozstvi\n",
       "0        102ADF              5698\n",
       "1        25KOL9              5527\n",
       "2        47EFKT              5325\n",
       "3       999DJT8              4955"
      ]
     },
     "execution_count": 37,
     "metadata": {},
     "output_type": "execute_result"
    }
   ],
   "source": [
    "df_dodavky.groupby('ID_dodavatele')['Mnozstvi'].sum().reset_index(name='Celkove_mnozstvi')"
   ]
  },
  {
   "cell_type": "markdown",
   "id": "4b5b03e9",
   "metadata": {},
   "source": [
    "## Průměrná délka zpožděných objednávek na celku"
   ]
  },
  {
   "cell_type": "code",
   "execution_count": 38,
   "id": "7a4375ed",
   "metadata": {},
   "outputs": [
    {
     "name": "stdout",
     "output_type": "stream",
     "text": [
      "11 days 11:32:53.221757322\n",
      "Prumerna doba zpozdeni: 11 days 11 hours 32 minutes\n"
     ]
    }
   ],
   "source": [
    "print(df_dodavky_zpozdene['Dodaci_doba'].mean())\n",
    "print(f\"Prumerna doba zpozdeni: {df_dodavky_zpozdene['Dodaci_doba'].mean().days} days {df_dodavky_zpozdene['Dodaci_doba'].mean().components.hours} hours {df_dodavky_zpozdene['Dodaci_doba'].mean().components.minutes} minutes\")"
   ]
  },
  {
   "cell_type": "code",
   "execution_count": 39,
   "id": "c04bbd9f",
   "metadata": {},
   "outputs": [
    {
     "data": {
      "text/plain": [
       "count                           239\n",
       "mean     11 days 11:32:53.221757322\n",
       "std       2 days 06:41:08.251690338\n",
       "min                 8 days 00:00:00\n",
       "25%                10 days 00:00:00\n",
       "50%                11 days 00:00:00\n",
       "75%                13 days 00:00:00\n",
       "max                15 days 00:00:00\n",
       "Name: Dodaci_doba, dtype: object"
      ]
     },
     "execution_count": 39,
     "metadata": {},
     "output_type": "execute_result"
    }
   ],
   "source": [
    "df_dodavky_zpozdene['Dodaci_doba'].describe()\n"
   ]
  },
  {
   "cell_type": "markdown",
   "id": "e2216096",
   "metadata": {},
   "source": [
    "## Průměrná délka zpoždění u zpožděných objednávek"
   ]
  },
  {
   "cell_type": "code",
   "execution_count": 40,
   "id": "a77b64bb",
   "metadata": {},
   "outputs": [
    {
     "name": "stdout",
     "output_type": "stream",
     "text": [
      "Průměrná délka zpoždění u zpožděných objednávek: 4 days 11:32:53.221757322\n",
      "Směrodatná odchylka zpoždění u zpožděných objednávek: 2 days 06:41:08.251690338\n"
     ]
    },
    {
     "data": {
      "text/plain": [
       "count                          239\n",
       "mean     4 days 11:32:53.221757322\n",
       "std      2 days 06:41:08.251690338\n",
       "min                1 days 00:00:00\n",
       "25%                3 days 00:00:00\n",
       "50%                4 days 00:00:00\n",
       "75%                6 days 00:00:00\n",
       "max                8 days 00:00:00\n",
       "dtype: object"
      ]
     },
     "execution_count": 40,
     "metadata": {},
     "output_type": "execute_result"
    }
   ],
   "source": [
    "df_neco = df_dodavky_zpozdene['Dodaci_doba'] - (df_dodavky_zpozdene['Deadline'] - df_dodavky_zpozdene['Datum_objednani'])\n",
    "df_neco.mean()\n",
    "print(f\"Průměrná délka zpoždění u zpožděných objednávek: {df_neco.mean()}\")\n",
    "print(f\"Směrodatná odchylka zpoždění u zpožděných objednávek: {df_neco.std()}\")\n",
    "df_neco.describe()\n"
   ]
  },
  {
   "cell_type": "code",
   "execution_count": null,
   "id": "a3ae78ed",
   "metadata": {},
   "outputs": [],
   "source": []
  }
 ],
 "metadata": {
  "kernelspec": {
   "display_name": "Python 3 (ipykernel)",
   "language": "python",
   "name": "python3"
  },
  "language_info": {
   "codemirror_mode": {
    "name": "ipython",
    "version": 3
   },
   "file_extension": ".py",
   "mimetype": "text/x-python",
   "name": "python",
   "nbconvert_exporter": "python",
   "pygments_lexer": "ipython3",
   "version": "3.10.12"
  }
 },
 "nbformat": 4,
 "nbformat_minor": 5
}
